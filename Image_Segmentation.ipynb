{
  "metadata": {
    "kernelspec": {
      "language": "python",
      "display_name": "Python 3",
      "name": "python3"
    },
    "language_info": {
      "name": "python",
      "version": "3.7.12",
      "mimetype": "text/x-python",
      "codemirror_mode": {
        "name": "ipython",
        "version": 3
      },
      "pygments_lexer": "ipython3",
      "nbconvert_exporter": "python",
      "file_extension": ".py"
    },
    "colab": {
      "name": "Image Segmentation.ipynb",
      "provenance": [],
      "collapsed_sections": [],
      "include_colab_link": true
    }
  },
  "nbformat_minor": 0,
  "nbformat": 4,
  "cells": [
    {
      "cell_type": "markdown",
      "metadata": {
        "id": "view-in-github",
        "colab_type": "text"
      },
      "source": [
        "<a href=\"https://colab.research.google.com/github/AhmedAbdallah142/Image-Segmentation/blob/main/Image_Segmentation.ipynb\" target=\"_parent\"><img src=\"https://colab.research.google.com/assets/colab-badge.svg\" alt=\"Open In Colab\"/></a>"
      ]
    },
    {
      "cell_type": "code",
      "source": [
        "!pip install opendatasets\n",
        "import tarfile\n",
        "import opendatasets as od\n",
        "from os import listdir\n",
        "import scipy.io\n",
        "from PIL import Image\n",
        "import numpy as np\n",
        "import matplotlib.pyplot as plt\n",
        "from random import randint\n",
        "from scipy.spatial.distance import cdist \n",
        "from sklearn.metrics.cluster import contingency_matrix\n",
        "from sklearn.cluster import SpectralClustering\n",
        "from sklearn.neighbors import kneighbors_graph"
      ],
      "metadata": {
        "execution": {
          "iopub.status.busy": "2022-03-31T15:27:48.055518Z",
          "iopub.execute_input": "2022-03-31T15:27:48.055825Z",
          "iopub.status.idle": "2022-03-31T15:27:59.038638Z",
          "shell.execute_reply.started": "2022-03-31T15:27:48.055746Z",
          "shell.execute_reply": "2022-03-31T15:27:59.037873Z"
        },
        "trusted": true,
        "id": "oqs7WQ49-lSM"
      },
      "execution_count": null,
      "outputs": []
    },
    {
      "cell_type": "code",
      "source": [
        "od.download(\"http://www.eecs.berkeley.edu/Research/Projects/CS/vision/grouping/BSR/BSR_bsds500.tgz\")\n",
        "tarfile.open(\"./BSR_bsds500.tgz\").extractall(\"./\")"
      ],
      "metadata": {
        "execution": {
          "iopub.status.busy": "2022-03-31T15:28:09.374286Z",
          "iopub.execute_input": "2022-03-31T15:28:09.37499Z",
          "iopub.status.idle": "2022-03-31T15:28:10.623273Z",
          "shell.execute_reply.started": "2022-03-31T15:28:09.374951Z",
          "shell.execute_reply": "2022-03-31T15:28:10.622383Z"
        },
        "trusted": true,
        "id": "6JwCG5ml-lSR"
      },
      "execution_count": null,
      "outputs": []
    },
    {
      "cell_type": "code",
      "source": [
        "images = []\n",
        "ground_truth = []\n",
        "boundaries = []\n",
        "path_images = './BSR/BSDS500/data/images/test/'\n",
        "path_ground = './BSR/BSDS500/data/groundTruth/test/'\n",
        "\n",
        "images_List = listdir(path_images)\n",
        "c = 0\n",
        "for image in images_List:\n",
        "  if image != \"Thumbs.db\":\n",
        "      mat = scipy.io.loadmat(path_ground+image[:-4])\n",
        "      img = Image.open(path_images + image)\n",
        "      lst = []\n",
        "      lst2 = []\n",
        "      images.append(np.array(img))\n",
        "      for j in range(mat['groundTruth'].shape[1]):\n",
        "          lst.append(mat['groundTruth'][0][j][0][0][0])\n",
        "      ground_truth.append(lst)\n",
        "      for j in range(mat['groundTruth'].shape[1]):\n",
        "          lst2.append(mat['groundTruth'][0][j][0][0][1])\n",
        "      boundaries.append(lst2)"
      ],
      "metadata": {
        "execution": {
          "iopub.status.busy": "2022-03-31T15:28:14.62656Z",
          "iopub.execute_input": "2022-03-31T15:28:14.626977Z",
          "iopub.status.idle": "2022-03-31T15:28:16.540436Z",
          "shell.execute_reply.started": "2022-03-31T15:28:14.626941Z",
          "shell.execute_reply": "2022-03-31T15:28:16.539673Z"
        },
        "trusted": true,
        "id": "30KrZSZl-lSR"
      },
      "execution_count": null,
      "outputs": []
    },
    {
      "cell_type": "code",
      "source": [
        "print(\"2. Visualize the image and the ground truth segmentation\\n\\n\")\n",
        "\n",
        "#print 2 samples\n",
        "for i in range (2):\n",
        "  plt.imshow(images[i]);\n",
        "  plt.figure();\n",
        "  plt.show()\n",
        "  for j in range(len(ground_truth[i])):\n",
        "    plt.imshow(ground_truth[i][j]);\n",
        "    plt.figure();\n",
        "    plt.show()\n",
        "  print()\n",
        "  for j in range(len(boundaries[i])):\n",
        "    plt.imshow(boundaries[i][j]);\n",
        "    plt.figure();\n",
        "    plt.show()\n",
        "  print()"
      ],
      "metadata": {
        "execution": {
          "iopub.status.busy": "2022-03-31T15:28:24.169967Z",
          "iopub.execute_input": "2022-03-31T15:28:24.170781Z",
          "iopub.status.idle": "2022-03-31T15:28:28.81859Z",
          "shell.execute_reply.started": "2022-03-31T15:28:24.170746Z",
          "shell.execute_reply": "2022-03-31T15:28:28.816942Z"
        },
        "trusted": true,
        "id": "LJoIK0gn-lSS"
      },
      "execution_count": null,
      "outputs": []
    },
    {
      "cell_type": "code",
      "source": [
        "pixels = 321 * 481\n",
        "num_imgs = 200\n",
        "\n",
        "train_set = np.arange(pixels * 3 * num_imgs).reshape(pixels * num_imgs, 3) \n",
        "\n",
        "for i in range(num_imgs):\n",
        "    train_set[pixels*i : pixels+(pixels*i) ,:] = images[i].reshape(pixels,3)"
      ],
      "metadata": {
        "execution": {
          "iopub.status.busy": "2022-03-31T15:28:44.89906Z",
          "iopub.execute_input": "2022-03-31T15:28:44.899327Z",
          "iopub.status.idle": "2022-03-31T15:28:45.181702Z",
          "shell.execute_reply.started": "2022-03-31T15:28:44.899298Z",
          "shell.execute_reply": "2022-03-31T15:28:45.18088Z"
        },
        "trusted": true,
        "id": "ul0l1i3--lST"
      },
      "execution_count": null,
      "outputs": []
    },
    {
      "cell_type": "code",
      "source": [
        " #Function to implement steps given in previous section\n",
        "def kmeans(x,k, no_of_iterations):\n",
        "    idx = np.random.choice(len(x), k, replace=False)\n",
        "    #Randomly choosing Centroids \n",
        "    centroids = x[idx, :] #Step 1\n",
        "     \n",
        "    #finding the distance between centroids and all the data points\n",
        "    distances = cdist(x, centroids ,'euclidean') #Step 2\n",
        "     \n",
        "    #Centroid with the minimum Distance\n",
        "    points = np.array([np.argmin(i) for i in distances]) #Step 3\n",
        "     \n",
        "    #Repeating the above steps for a defined number of iterations\n",
        "    #Step 4\n",
        "    for _ in range(no_of_iterations): \n",
        "        centroids = []\n",
        "        for idx in range(k):\n",
        "            #Updating Centroids by taking mean of Cluster it belongs to\n",
        "            temp_cent = x[points==idx].mean(axis=0) \n",
        "            centroids.append(temp_cent)\n",
        " \n",
        "        centroids = np.vstack(centroids) #Updated Centroids \n",
        "         \n",
        "        distances = cdist(x, centroids ,'euclidean')\n",
        "        points = np.array([np.argmin(i) for i in distances])\n",
        "         \n",
        "    return points "
      ],
      "metadata": {
        "execution": {
          "iopub.status.busy": "2022-03-31T15:28:49.513889Z",
          "iopub.execute_input": "2022-03-31T15:28:49.514167Z",
          "iopub.status.idle": "2022-03-31T15:28:49.52157Z",
          "shell.execute_reply.started": "2022-03-31T15:28:49.514138Z",
          "shell.execute_reply": "2022-03-31T15:28:49.520617Z"
        },
        "trusted": true,
        "id": "qGRxXywc-lSU"
      },
      "execution_count": null,
      "outputs": []
    },
    {
      "cell_type": "code",
      "source": [
        "colors = [np.array([148,0,211]) ,np.array([0,0,255]) ,np.array([255,0,0])   ,np.array([255,255,0]) ,np.array([102,102,0])  ,\n",
        "          np.array([75 ,0,130]) ,np.array([0,255,0]) ,np.array([107,27,32]) ,np.array([255,127,0]) ,np.array([51,255,255]) ,np.array([127,127,127])]\n",
        "\n",
        "def ClusteriseImages(clusters,data_mat):\n",
        "    clusterised_mat= np.zeros(data_mat.shape,dtype=np.uint8)\n",
        "    for i in range(data_mat.shape[0]):\n",
        "        clusterised_mat[i] = colors[clusters[i]]\n",
        "    return clusterised_mat"
      ],
      "metadata": {
        "execution": {
          "iopub.status.busy": "2022-03-31T15:28:56.815789Z",
          "iopub.execute_input": "2022-03-31T15:28:56.816062Z",
          "iopub.status.idle": "2022-03-31T15:28:56.824258Z",
          "shell.execute_reply.started": "2022-03-31T15:28:56.816032Z",
          "shell.execute_reply": "2022-03-31T15:28:56.823329Z"
        },
        "trusted": true,
        "id": "If5P3t3y-lSU"
      },
      "execution_count": null,
      "outputs": []
    },
    {
      "cell_type": "code",
      "source": [
        "clusterised_imgs = []\n",
        "clusterings = []\n",
        "test = 50\n",
        "for i in range (test):\n",
        "  row = []\n",
        "  for k in range(3,12,2):\n",
        "    image = train_set[pixels*i : pixels+(pixels*i)] \n",
        "    model = kmeans(image,k,20)\n",
        "    row.append(model)\n",
        "    clusterised_imgs.append(ClusteriseImages(model,image))\n",
        "  clusterings.append(row)"
      ],
      "metadata": {
        "execution": {
          "iopub.status.busy": "2022-03-31T15:29:02.946827Z",
          "iopub.execute_input": "2022-03-31T15:29:02.947786Z",
          "iopub.status.idle": "2022-03-31T16:06:03.128539Z",
          "shell.execute_reply.started": "2022-03-31T15:29:02.947745Z",
          "shell.execute_reply": "2022-03-31T16:06:03.127627Z"
        },
        "trusted": true,
        "id": "SzlQg9qh-lSV"
      },
      "execution_count": null,
      "outputs": []
    },
    {
      "cell_type": "code",
      "source": [
        "for i in range (0,6,5):\n",
        "  count = 0\n",
        "  for k in range (3,12,2):\n",
        "    plt.imshow(clusterised_imgs[i+count].reshape(321,481,3));\n",
        "    plt.title(f'Clustering for Image {i} k={k}');\n",
        "    plt.figure();\n",
        "    count = count + 1"
      ],
      "metadata": {
        "execution": {
          "iopub.status.busy": "2022-03-31T16:08:58.04507Z",
          "iopub.execute_input": "2022-03-31T16:08:58.045817Z",
          "iopub.status.idle": "2022-03-31T16:09:00.519155Z",
          "shell.execute_reply.started": "2022-03-31T16:08:58.045777Z",
          "shell.execute_reply": "2022-03-31T16:09:00.518359Z"
        },
        "trusted": true,
        "id": "mfbudTQJ-lSW"
      },
      "execution_count": null,
      "outputs": []
    },
    {
      "cell_type": "code",
      "source": [
        "def Fmeasure(clusters,partitions):\n",
        "    F= 0\n",
        "    contigencyTable = contingency_matrix(clusters,partitions)\n",
        "    idx=contigencyTable.argmax(axis=1)\n",
        "    for i in range(contigencyTable.shape[0]):\n",
        "        nij = contigencyTable.max(axis=1)[i]\n",
        "        ni = np.sum(contigencyTable[i])\n",
        "        ji = contigencyTable[:,idx[i]]\n",
        "        mji = np.sum(ji)\n",
        "        F += 2 * nij/(ni+mji)\n",
        "    return F/contigencyTable.shape[0]"
      ],
      "metadata": {
        "execution": {
          "iopub.status.busy": "2022-03-31T16:10:25.450764Z",
          "iopub.execute_input": "2022-03-31T16:10:25.451034Z",
          "iopub.status.idle": "2022-03-31T16:10:25.459075Z",
          "shell.execute_reply.started": "2022-03-31T16:10:25.451006Z",
          "shell.execute_reply": "2022-03-31T16:10:25.458303Z"
        },
        "trusted": true,
        "id": "F_NCXmPr-lSX"
      },
      "execution_count": null,
      "outputs": []
    },
    {
      "cell_type": "code",
      "source": [
        "def ConditionalEntropy(clusters,partitions):\n",
        "  result = 0\n",
        "  contigencyTable = contingency_matrix(clusters,partitions)\n",
        "  rowsum = contigencyTable.sum(axis = 1)\n",
        "  totalsum = rowsum.sum()\n",
        "  for i in range(len(contigencyTable)):\n",
        "    row = 0\n",
        "    for j in range(len(contigencyTable[i])):\n",
        "      if not (contigencyTable[i][j] == 0):\n",
        "        row -= (contigencyTable[i][j] / rowsum[i])*np.log2(contigencyTable[i][j] / rowsum[i])\n",
        "    result += ((rowsum[i]/totalsum)*row)\n",
        "  return result"
      ],
      "metadata": {
        "execution": {
          "iopub.status.busy": "2022-03-31T16:10:32.501747Z",
          "iopub.execute_input": "2022-03-31T16:10:32.502018Z",
          "iopub.status.idle": "2022-03-31T16:10:32.50972Z",
          "shell.execute_reply.started": "2022-03-31T16:10:32.501988Z",
          "shell.execute_reply": "2022-03-31T16:10:32.509026Z"
        },
        "trusted": true,
        "id": "gFM8ZF2e-lSX"
      },
      "execution_count": null,
      "outputs": []
    },
    {
      "cell_type": "code",
      "source": [
        "# Collect Results \n",
        "f_result = []\n",
        "c_result = []\n",
        "for i in range(test):\n",
        "  f_image = []\n",
        "  c_image = []\n",
        "  for k in range(5):\n",
        "    f_K = []\n",
        "    c_K = []\n",
        "    for j in range(len(ground_truth[i])):\n",
        "      f_K.append(Fmeasure(clusterings[i][k],ground_truth[i][j].reshape(481*321)))\n",
        "      c_K.append(ConditionalEntropy(clusterings[i][k],ground_truth[i][j].reshape(481*321)))\n",
        "    f_image.append(f_K)\n",
        "    c_image.append(c_K)\n",
        "  f_result.append(f_image)\n",
        "  c_result.append(c_image)"
      ],
      "metadata": {
        "execution": {
          "iopub.status.busy": "2022-03-31T16:11:14.597972Z",
          "iopub.execute_input": "2022-03-31T16:11:14.59824Z",
          "iopub.status.idle": "2022-03-31T16:11:38.843748Z",
          "shell.execute_reply.started": "2022-03-31T16:11:14.598211Z",
          "shell.execute_reply": "2022-03-31T16:11:38.842852Z"
        },
        "trusted": true,
        "id": "X_TogR5S-lSY"
      },
      "execution_count": null,
      "outputs": []
    },
    {
      "cell_type": "code",
      "source": [
        "# Show Results\n",
        "max = -np.inf\n",
        "min = np.inf\n",
        "maxidx = -1\n",
        "minind = -1\n",
        "for i in range(len(f_result)):\n",
        "    print(f'\\nfor image {i}\\n-------------\\n')\n",
        "    temp = []\n",
        "    for j,k in enumerate(range(3,12,2)):\n",
        "        f = np.average(f_result[i][j])\n",
        "        print(f'for K {k}\\n F_measure = {f_result[i][j]} , Average = {f}\\n Entropy = {c_result[i][j]} , Average = {np.average(c_result[i][j])}')\n",
        "        temp.append(f)\n",
        "    if np.average(temp) > max:\n",
        "        max = np.average(temp)\n",
        "        maxidx = i\n",
        "    if np.average(temp) < min:\n",
        "        min = np.average(temp)\n",
        "        minidx = i\n",
        "\n",
        "print(f'Best Result with average f-measure {max} :\\n')\n",
        "plt.imshow(images[maxidx]);\n",
        "plt.figure();\n",
        "plt.show()\n",
        "for c,k in enumerate(range (3,12,2)):\n",
        "    plt.imshow(clusterised_imgs[(maxidx*5)+c].reshape(321,481,3));\n",
        "    plt.title(f'Clustering for Image {maxidx} k={k}');\n",
        "    plt.figure();\n",
        "    plt.show()\n",
        "print(f'Worst Result with average f-measure {min} :\\n')\n",
        "plt.imshow(images[minidx]);\n",
        "plt.figure();\n",
        "plt.show()\n",
        "for c,k in enumerate(range (3,12,2)):\n",
        "    plt.imshow(clusterised_imgs[(minidx*5)+c].reshape(321,481,3));\n",
        "    plt.title(f'Clustering for Image {minidx} k={k}');\n",
        "    plt.figure();\n",
        "    plt.show()"
      ],
      "metadata": {
        "execution": {
          "iopub.status.busy": "2022-03-31T16:51:02.668205Z",
          "iopub.execute_input": "2022-03-31T16:51:02.668491Z",
          "iopub.status.idle": "2022-03-31T16:51:05.19538Z",
          "shell.execute_reply.started": "2022-03-31T16:51:02.668458Z",
          "shell.execute_reply": "2022-03-31T16:51:05.194731Z"
        },
        "trusted": true,
        "id": "o0itdPj5-lSY"
      },
      "execution_count": null,
      "outputs": []
    },
    {
      "cell_type": "code",
      "source": [
        "temp = []\n",
        "temp_groundtruth = []\n",
        "choices = [1,3,4,30,10]\n",
        "for i in choices:\n",
        "  temp.append(images[i])\n",
        "  temp_groundtruth.append(ground_truth[i])"
      ],
      "metadata": {
        "execution": {
          "iopub.status.busy": "2022-03-31T16:52:34.46526Z",
          "iopub.execute_input": "2022-03-31T16:52:34.466013Z",
          "iopub.status.idle": "2022-03-31T16:52:34.470514Z",
          "shell.execute_reply.started": "2022-03-31T16:52:34.465975Z",
          "shell.execute_reply": "2022-03-31T16:52:34.469747Z"
        },
        "trusted": true,
        "id": "7hZSMknR-lSZ"
      },
      "execution_count": null,
      "outputs": []
    },
    {
      "cell_type": "code",
      "source": [
        "def get_image_RGB(image):\n",
        "  img = np.arange(321*481*3).reshape(321*481, 3)\n",
        "  count=0\n",
        "  for i in range(image.shape[0]):\n",
        "    for j in range(image.shape[1]):\n",
        "      img[count] = image[i,j,:]\n",
        "      count = count +1\n",
        "  return img"
      ],
      "metadata": {
        "execution": {
          "iopub.status.busy": "2022-03-31T16:52:39.873037Z",
          "iopub.execute_input": "2022-03-31T16:52:39.873711Z",
          "iopub.status.idle": "2022-03-31T16:52:39.87869Z",
          "shell.execute_reply.started": "2022-03-31T16:52:39.873671Z",
          "shell.execute_reply": "2022-03-31T16:52:39.877988Z"
        },
        "trusted": true,
        "id": "Ly0vIsRF-lSZ"
      },
      "execution_count": null,
      "outputs": []
    },
    {
      "cell_type": "code",
      "source": [
        "def graph_5NN (data):\n",
        "  A = kneighbors_graph(data, 5, mode='connectivity', include_self=True)\n",
        "  return A.toarray()\n",
        "\n",
        "def Normalize(U):\n",
        "  row_sums = U.sum(axis=1)\n",
        "  return U / row_sums[:, np.newaxis];\n",
        "\n",
        "def NormalizedCut(A,K):\n",
        "  delta = np.zeros((A.shape[0],A.shape[0]))\n",
        "  for i in range(A.shape[0]):\n",
        "    delta[i,i] = np.sum(A[i])\n",
        "  B = np.identity(A.shape[0]) - np.dot(np.linalg.inv(delta),A)\n",
        "  U = np.linalg.eigh(B)[1][:,:K]\n",
        "  Y = Normalize(U);\n",
        "  return kmeans(Y,K,20)"
      ],
      "metadata": {
        "id": "3ORHzvKl-lSZ"
      },
      "execution_count": null,
      "outputs": []
    },
    {
      "cell_type": "code",
      "source": [
        "for i in range (5):\n",
        "  image = get_image_RGB(temp[i]) \n",
        "  model = kmeans(image,5,20)\n",
        "  kmeans_image=ClusteriseImages(model,image)\n",
        "  plt.imshow(kmeans_image.reshape(321,481,3));\n",
        "  plt.title(f'Clustering for Image {i} k=5 ');\n",
        "  plt.figure();\n",
        "  print()\n",
        "  for j in range(len(temp_groundtruth[i])):\n",
        "    plt.imshow(temp_groundtruth[i][j]);\n",
        "    plt.figure();\n",
        "    plt.show()"
      ],
      "metadata": {
        "execution": {
          "iopub.status.busy": "2022-03-31T16:52:44.955814Z",
          "iopub.execute_input": "2022-03-31T16:52:44.9562Z",
          "iopub.status.idle": "2022-03-31T16:53:35.020613Z",
          "shell.execute_reply.started": "2022-03-31T16:52:44.956158Z",
          "shell.execute_reply": "2022-03-31T16:53:35.019905Z"
        },
        "trusted": true,
        "id": "dGSTyTOY-lSa"
      },
      "execution_count": null,
      "outputs": []
    },
    {
      "cell_type": "code",
      "source": [
        "for i in range (5):\n",
        "  image = get_image_RGB(temp[i]) \n",
        "  model = SpectralClustering(n_clusters=5,affinity='nearest_neighbors',n_neighbors=5,n_jobs=-1).fit_predict(image)\n",
        "  kmeans_image=ClusteriseImages(model,image)\n",
        "  plt.imshow(kmeans_image.reshape(321,481,3));\n",
        "  plt.title(f'Clustering for Image {i} k=5 ');\n",
        "  plt.figure();\n",
        "  print()\n",
        "  for j in range(len(temp_groundtruth[i])):\n",
        "    plt.imshow(temp_groundtruth[i][j]);\n",
        "    plt.figure();\n",
        "    plt.show()"
      ],
      "metadata": {
        "execution": {
          "iopub.status.busy": "2022-03-31T15:18:47.646318Z",
          "iopub.execute_input": "2022-03-31T15:18:47.646924Z"
        },
        "trusted": true,
        "id": "3rxE3KFn-lSa"
      },
      "execution_count": null,
      "outputs": []
    },
    {
      "cell_type": "code",
      "source": [
        "def get_image_RGB_Spatial(image):\n",
        "  img = np.arange(321*481*5).reshape(321*481, 5)\n",
        "  count=0\n",
        "  for i in range(image.shape[0]):\n",
        "    for j in range(image.shape[1]):\n",
        "      img[count] = np.append(image[i,j,:],[i,j])\n",
        "      count = count +1\n",
        "  return img"
      ],
      "metadata": {
        "execution": {
          "iopub.status.busy": "2022-03-31T16:54:19.794903Z",
          "iopub.execute_input": "2022-03-31T16:54:19.795162Z",
          "iopub.status.idle": "2022-03-31T16:54:19.801996Z",
          "shell.execute_reply.started": "2022-03-31T16:54:19.795134Z",
          "shell.execute_reply": "2022-03-31T16:54:19.801197Z"
        },
        "trusted": true,
        "id": "DRY-bWt6-lSa"
      },
      "execution_count": null,
      "outputs": []
    },
    {
      "cell_type": "code",
      "source": [
        "for i in range (5):\n",
        "    plt.imshow(images[choices[i]]);\n",
        "    plt.figure();\n",
        "    plt.show()\n",
        "    for k in range(3,12,2):\n",
        "        image = get_image_RGB_Spatial(temp[i]) \n",
        "        im = get_image_RGB(temp[i]) \n",
        "        model = kmeans(image,k,20)\n",
        "        kmeans_image=ClusteriseImages(model,im)\n",
        "        plt.imshow(kmeans_image.reshape(321,481,3));\n",
        "        plt.title(f'Clustering for Image {i} k= {k} ');\n",
        "        plt.figure();"
      ],
      "metadata": {
        "execution": {
          "iopub.status.busy": "2022-03-31T17:05:41.443901Z",
          "iopub.execute_input": "2022-03-31T17:05:41.444167Z"
        },
        "trusted": true,
        "id": "towBmWYU-lSb"
      },
      "execution_count": null,
      "outputs": []
    }
  ]
}